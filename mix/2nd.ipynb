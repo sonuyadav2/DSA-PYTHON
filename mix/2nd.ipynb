{
 "cells": [
  {
   "cell_type": "markdown",
   "metadata": {},
   "source": [
    "### boll"
   ]
  },
  {
   "cell_type": "code",
   "execution_count": 1,
   "metadata": {},
   "outputs": [
    {
     "data": {
      "text/plain": [
       "True"
      ]
     },
     "execution_count": 1,
     "metadata": {},
     "output_type": "execute_result"
    }
   ],
   "source": [
    "a=True\n",
    "b=False\n",
    "a"
   ]
  },
  {
   "cell_type": "markdown",
   "metadata": {},
   "source": [
    "### relation operator"
   ]
  },
  {
   "cell_type": "code",
   "execution_count": 3,
   "metadata": {},
   "outputs": [
    {
     "name": "stdout",
     "output_type": "stream",
     "text": [
      "5\n",
      "10\n",
      "False\n"
     ]
    },
    {
     "data": {
      "text/plain": [
       "True"
      ]
     },
     "execution_count": 3,
     "metadata": {},
     "output_type": "execute_result"
    }
   ],
   "source": [
    "a=int(input())\n",
    "b=int(input())\n",
    "print(a>b)\n",
    "a<b\n",
    "a>=b\n",
    "a<=b\n",
    "a==b\n",
    "a!=b\n"
   ]
  },
  {
   "cell_type": "markdown",
   "metadata": {},
   "source": [
    "### logical operators"
   ]
  },
  {
   "cell_type": "code",
   "execution_count": 7,
   "metadata": {},
   "outputs": [
    {
     "name": "stdout",
     "output_type": "stream",
     "text": [
      "False\n",
      "True\n",
      "False\n"
     ]
    }
   ],
   "source": [
    "a=10\n",
    "b=0\n",
    "c1=a>b\n",
    "c2=(a+5)<12\n",
    "print(c1 and c2)\n",
    "print(c1 or c2)\n",
    "print(not(c1))"
   ]
  },
  {
   "cell_type": "markdown",
   "metadata": {},
   "source": [
    "### ifelse"
   ]
  },
  {
   "cell_type": "code",
   "execution_count": null,
   "metadata": {},
   "outputs": [],
   "source": [
    "a=False\n",
    "if a:\n",
    "    print(\"sunni is a bad girl\")\n",
    "    print(\"misti accept proposal\")\n",
    "else:\n",
    "        print(\"sonu\")\n",
    "        print(\"ayush\")"
   ]
  },
  {
   "cell_type": "markdown",
   "metadata": {},
   "source": [
    "### syntax of if else\n",
    "never make a gap while doing if alse operation"
   ]
  },
  {
   "cell_type": "markdown",
   "metadata": {},
   "source": [
    "### use of logic operation"
   ]
  },
  {
   "cell_type": "code",
   "execution_count": 2,
   "metadata": {},
   "outputs": [
    {
     "name": "stdout",
     "output_type": "stream",
     "text": [
      "True\n"
     ]
    }
   ],
   "source": [
    "a=20\n",
    "b=5\n",
    "if a>b:\n",
    "    print(True)"
   ]
  },
  {
   "cell_type": "markdown",
   "metadata": {},
   "source": [
    "### elseif"
   ]
  },
  {
   "cell_type": "code",
   "execution_count": null,
   "metadata": {},
   "outputs": [],
   "source": [
    "if first statement false then we go to elif condition"
   ]
  },
  {
   "cell_type": "code",
   "execution_count": 8,
   "metadata": {},
   "outputs": [
    {
     "name": "stdout",
     "output_type": "stream",
     "text": [
      "9999\n",
      "positive\n"
     ]
    }
   ],
   "source": [
    "a=int(input())\n",
    "if a>0:\n",
    "    print(\"positive\")\n",
    "elif a>5:\n",
    "    print(\"negitive\")\n",
    "elif a==0:\n",
    "    print(\"zero\")"
   ]
  },
  {
   "cell_type": "markdown",
   "metadata": {},
   "source": [
    "### nested in if "
   ]
  },
  {
   "cell_type": "code",
   "execution_count": null,
   "metadata": {},
   "outputs": [],
   "source": [
    "nested means if condition inside a if condition "
   ]
  },
  {
   "cell_type": "markdown",
   "metadata": {},
   "source": [
    "### whileloop"
   ]
  },
  {
   "cell_type": "code",
   "execution_count": 21,
   "metadata": {},
   "outputs": [
    {
     "name": "stdout",
     "output_type": "stream",
     "text": [
      "5\n",
      "15\n"
     ]
    }
   ],
   "source": [
    "a=int(input())\n",
    "b=1\n",
    "sum=0\n",
    "while b<=a:\n",
    "    sum=sum+b\n",
    "    b=b+1\n",
    "print(sum)    "
   ]
  },
  {
   "cell_type": "code",
   "execution_count": 49,
   "metadata": {},
   "outputs": [
    {
     "name": "stdout",
     "output_type": "stream",
     "text": [
      "8\n",
      "20\n"
     ]
    }
   ],
   "source": [
    "a=int(input())\n",
    "b=1\n",
    "sum=0\n",
    "while b<=a:\n",
    "    if b%2==0:\n",
    "        sum=sum+b\n",
    "        b=b+1\n",
    "    else:\n",
    "        b=b+1\n",
    "print(sum)  "
   ]
  },
  {
   "cell_type": "markdown",
   "metadata": {},
   "source": [
    "### CHECKING PRIME NO "
   ]
  },
  {
   "cell_type": "code",
   "execution_count": 10,
   "metadata": {},
   "outputs": [
    {
     "name": "stdout",
     "output_type": "stream",
     "text": [
      "17\n",
      " no is prime\n"
     ]
    }
   ],
   "source": [
    "a=int(input())\n",
    "b=2\n",
    "f=True\n",
    "while b<a:\n",
    "    if a%b==0:\n",
    "        f=False\n",
    "    b=b+1        \n",
    "\n",
    "if f==True:\n",
    "    print(\" no is prime\")\n",
    "else:\n",
    "    print(\"no is not prime\")\n"
   ]
  },
  {
   "cell_type": "markdown",
   "metadata": {},
   "source": [
    "### nested loop(how to use while in while)"
   ]
  },
  {
   "cell_type": "code",
   "execution_count": 22,
   "metadata": {},
   "outputs": [
    {
     "name": "stdout",
     "output_type": "stream",
     "text": [
      "13\n",
      "prime\n"
     ]
    }
   ],
   "source": [
    "#print all prime no less then n\n",
    "n=int(input())\n",
    "i=2\n",
    "bool=True\n",
    "while i<n:\n",
    "    if n%i==0:\n",
    "        bool=False\n",
    "        break\n",
    "   \n",
    "    i=i+1\n",
    "if bool:\n",
    "    print(\"prime\")\n",
    "else:\n",
    "    print(\"not prime\")"
   ]
  },
  {
   "cell_type": "code",
   "execution_count": 13,
   "metadata": {},
   "outputs": [
    {
     "name": "stdout",
     "output_type": "stream",
     "text": [
      "0\n",
      "100\n",
      "20\n",
      "0    -17\n",
      "20    -6\n",
      "40    4\n",
      "60    15\n",
      "80    26\n",
      "100    37\n"
     ]
    }
   ],
   "source": [
    "#f to c conversion\n",
    "a=int(input())\n",
    "b=int(input())\n",
    "c=int(input())\n",
    "while a<=b:\n",
    "    s=int(((a-32)*5)/9)\n",
    "    print(a,\"  \",s)\n",
    "    a=a+c"
   ]
  },
  {
   "cell_type": "markdown",
   "metadata": {},
   "source": [
    "### calcu"
   ]
  },
  {
   "cell_type": "code",
   "execution_count": null,
   "metadata": {},
   "outputs": [],
   "source": [
    "a=int(input())\n",
    "\n",
    "if a==1:\n",
    "    b=int(input())\n",
    "    c=int(input())\n",
    "    d=b+c\n",
    "    print(d)\n",
    "    "
   ]
  },
  {
   "cell_type": "markdown",
   "metadata": {},
   "source": [
    "### assignment"
   ]
  },
  {
   "cell_type": "code",
   "execution_count": null,
   "metadata": {},
   "outputs": [],
   "source": [
    "#1cal\n",
    "n=int(input())\n",
    "if n==1:\n",
    "    x=int(input())\n",
    "    y=int(input())\n",
    "    sum=x+y\n",
    "    print(sum)\n",
    "elif n==2:\n",
    "    x=int(input())\n",
    "    y=int(input())\n",
    "    dif=x-y\n",
    "    print(dif)\n",
    "elif n==3:\n",
    "    x=int(input())\n",
    "    y=int(input())\n",
    "    pro=x*y\n",
    "    print(pro)\n",
    "elif n==4:\n",
    "    x=int(input())\n",
    "    y=int(input())\n",
    "    div=x/y\n",
    "    print(div)\n",
    "elif n==5:\n",
    "    x=int(input())\n",
    "    y=int(input())\n",
    "    mod=x%y\n",
    "    print(mod)\n",
    "elif n==6:\n",
    "    exit()\n",
    "elif :\n",
    "    print(\"invalid operation\")\n",
    "    "
   ]
  },
  {
   "cell_type": "code",
   "execution_count": 11,
   "metadata": {},
   "outputs": [
    {
     "name": "stdout",
     "output_type": "stream",
     "text": [
      "123\n",
      "321\n"
     ]
    }
   ],
   "source": [
    "#2 reverce no\n",
    "n=int(input())\n",
    "rev=0\n",
    "i=0\n",
    "while n!=0:\n",
    "    a=int(n%10)\n",
    "\n",
    "    rev=rev*10+a\n",
    "    i=i+1\n",
    "    n=n//10\n",
    "print(rev)\n"
   ]
  },
  {
   "cell_type": "code",
   "execution_count": 16,
   "metadata": {},
   "outputs": [
    {
     "name": "stdout",
     "output_type": "stream",
     "text": [
      "121\n",
      "true\n"
     ]
    }
   ],
   "source": [
    "#3 palindrome\n",
    "n=int(input())\n",
    "t=n #we use t as we want to store n (we need it in last )\n",
    "rev=0\n",
    "while n!=0:\n",
    "    a=int(n%10)\n",
    "    rev=rev*10+a\n",
    "    n=n//10\n",
    "\n",
    "if (t==rev):\n",
    "    print(\"true\")\n",
    "else:\n",
    "    print(\"false\")"
   ]
  },
  {
   "cell_type": "code",
   "execution_count": 3,
   "metadata": {},
   "outputs": [
    {
     "name": "stdout",
     "output_type": "stream",
     "text": [
      "123456\n",
      "12   9\n"
     ]
    }
   ],
   "source": [
    "#4\n",
    "#123456\n",
    "\n",
    "n=int(input())\n",
    "es=0\n",
    "os=0\n",
    "while n!=0:\n",
    "    c=int(n%10)\n",
    "    if c%2==0:\n",
    "        es=es+c\n",
    "    else:\n",
    "        os=os+c\n",
    "    n=n/10\n",
    "print(es,\" \",os)"
   ]
  },
  {
   "cell_type": "code",
   "execution_count": 23,
   "metadata": {},
   "outputs": [
    {
     "name": "stdout",
     "output_type": "stream",
     "text": [
      "6\n",
      "13\n"
     ]
    }
   ],
   "source": [
    "#5 Nth fab\n",
    "n=int(input())\n",
    "i=2\n",
    "f1=f2=1\n",
    "f3=0\n",
    "while i <=n:\n",
    "    f3=f1+f2\n",
    "    f1=f2\n",
    "    f2=f3\n",
    "    i+=1\n",
    "print(f3)"
   ]
  }
 ],
 "metadata": {
  "kernelspec": {
   "display_name": "Python 3",
   "language": "python",
   "name": "python3"
  },
  "language_info": {
   "codemirror_mode": {
    "name": "ipython",
    "version": 3
   },
   "file_extension": ".py",
   "mimetype": "text/x-python",
   "name": "python",
   "nbconvert_exporter": "python",
   "pygments_lexer": "ipython3",
   "version": "3.8.5"
  }
 },
 "nbformat": 4,
 "nbformat_minor": 4
}
