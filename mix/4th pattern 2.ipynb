{
 "cells": [
  {
   "cell_type": "markdown",
   "metadata": {},
   "source": [
    "### pattern 2\n"
   ]
  },
  {
   "cell_type": "code",
   "execution_count": 3,
   "metadata": {},
   "outputs": [
    {
     "name": "stdout",
     "output_type": "stream",
     "text": [
      "5\n",
      "55555\n",
      "4444\n",
      "333\n",
      "22\n",
      "1\n"
     ]
    }
   ],
   "source": [
    "n=int(input())\n",
    "i=0\n",
    "while i<n:\n",
    "    j=1\n",
    "    while j<=n-i:\n",
    "        print(n-i,end='')\n",
    "        j+=1\n",
    "    i+=1\n",
    "    print()\n"
   ]
  },
  {
   "cell_type": "markdown",
   "metadata": {},
   "source": [
    "### reversed pattern"
   ]
  },
  {
   "cell_type": "code",
   "execution_count": null,
   "metadata": {},
   "outputs": [],
   "source": []
  },
  {
   "cell_type": "code",
   "execution_count": 7,
   "metadata": {},
   "outputs": [
    {
     "name": "stdout",
     "output_type": "stream",
     "text": [
      "5\n",
      "    1\n",
      "   12\n",
      "  123\n",
      " 1234\n",
      "12345\n"
     ]
    }
   ],
   "source": [
    "n=int(input())\n",
    "i=1\n",
    "while i<=n:\n",
    "    j=1\n",
    "    while j<=n-i:\n",
    "        print(\" \",end='')\n",
    "        j+=1\n",
    "    j=1\n",
    "    while j<=i:\n",
    "        print(j,end='')\n",
    "        j+=1\n",
    "    i+=1\n",
    "    print()\n"
   ]
  },
  {
   "cell_type": "code",
   "execution_count": null,
   "metadata": {},
   "outputs": [],
   "source": [
    "## print down(video code)\n",
    "   1\n",
    "  121\n",
    " 12321\n",
    "1234321\n"
   ]
  },
  {
   "cell_type": "code",
   "execution_count": 4,
   "metadata": {},
   "outputs": [
    {
     "name": "stdout",
     "output_type": "stream",
     "text": [
      "5\n",
      "    1\n",
      "   121\n",
      "  12321\n",
      " 1234321\n",
      "123454321\n"
     ]
    }
   ],
   "source": [
    "n=int(input())\n",
    "i=1\n",
    "while i<=n:\n",
    "    j=1\n",
    "    while j<=n-i:\n",
    "        print(\" \",end='')\n",
    "        j+=1\n",
    "    j=1\n",
    "    while j<=i:\n",
    "        print(j,end='')\n",
    "        j+=1\n",
    "    j=i-1\n",
    "    while j>=1:\n",
    "        if j>=1:    \n",
    "            print(j, end='')\n",
    "        j-=1\n",
    "    i+=1\n",
    "    print()"
   ]
  },
  {
   "cell_type": "markdown",
   "metadata": {},
   "source": [
    "### pattern base questions"
   ]
  },
  {
   "cell_type": "code",
   "execution_count": 11,
   "metadata": {},
   "outputs": [
    {
     "name": "stdout",
     "output_type": "stream",
     "text": [
      "4\n",
      "   *\n",
      "  ***\n",
      " *****\n",
      "*******\n"
     ]
    }
   ],
   "source": [
    "n=int(input())\n",
    "i=1\n",
    "while i<=n:\n",
    "    j=1\n",
    "    while j<=n-i:\n",
    "        print(\" \",end='')\n",
    "        j+=1\n",
    "    j=1\n",
    "    while j<=2*i-1:\n",
    "        print(\"*\",end='')\n",
    "        j+=1\n",
    "    print()\n",
    "    i+=1"
   ]
  },
  {
   "cell_type": "code",
   "execution_count": 30,
   "metadata": {},
   "outputs": [
    {
     "name": "stdout",
     "output_type": "stream",
     "text": [
      "5\n",
      "    1\n",
      "   232\n",
      "  34543\n",
      " 4567654\n",
      "567898765\n"
     ]
    }
   ],
   "source": [
    "n=int(input())\n",
    "i=1\n",
    "while i<=n:\n",
    "    j=1\n",
    "    while j<=n-i:\n",
    "        print(\" \",end='')\n",
    "        j+=1\n",
    "    j=1\n",
    "    while j<=i:\n",
    "        print(i+j-1,end='')\n",
    "        j+=1\n",
    "    j=i\n",
    "    d=2*i-2\n",
    "    while j>1:\n",
    "        print(d,end='')\n",
    "        j-=1\n",
    "        d-=1\n",
    "    i+=1\n",
    "    print()"
   ]
  },
  {
   "cell_type": "code",
   "execution_count": 52,
   "metadata": {},
   "outputs": [
    {
     "name": "stdout",
     "output_type": "stream",
     "text": [
      "5\n",
      "  *\n",
      " ***\n",
      "*****\n",
      " ***\n",
      "  *\n"
     ]
    }
   ],
   "source": [
    "n=int(input())\n",
    "i=1\n",
    "while i<=n:\n",
    "    j=1\n",
    "    while j<=(n+1)/2-i:\n",
    "        print(\" \",end='')\n",
    "        j+=1\n",
    "    if i<=(n+1)/2:\n",
    "        j=1\n",
    "        while j<=2*i-1:\n",
    "            print(\"*\",end='')\n",
    "            j+=1\n",
    "    else:\n",
    "        j=(n+3)/2\n",
    "        while j<=i:\n",
    "            print(\" \",end='')\n",
    "            j+=1\n",
    "        j=2*n-i\n",
    "        while j>=i:\n",
    "            print(\"*\",end='')\n",
    "            j-=1\n",
    "    i+=1\n",
    "    print()"
   ]
  },
  {
   "cell_type": "markdown",
   "metadata": {},
   "source": [
    "### assignment(done)"
   ]
  },
  {
   "cell_type": "code",
   "execution_count": 7,
   "metadata": {},
   "outputs": [
    {
     "name": "stdout",
     "output_type": "stream",
     "text": [
      "5\n",
      "1        1\n",
      "12      21\n",
      "123    321\n",
      "1234  4321\n",
      "1234554321\n"
     ]
    }
   ],
   "source": [
    "#1\n",
    "n=int(input())\n",
    "i=1;\n",
    "while i<=n:\n",
    "    j=1;\n",
    "    while j<=i:\n",
    "        print(j,end='')\n",
    "        j+=1\n",
    "    j=1\n",
    "    while j<=2*n-2*i:\n",
    "        print(\" \",end='')\n",
    "        j+=1\n",
    "    j=1\n",
    "    d=i\n",
    "    while j<=i:\n",
    "        print(d,end='')\n",
    "        j+=1\n",
    "        d-=1\n",
    "    print()\n",
    "    i+=1\n",
    "        \n"
   ]
  },
  {
   "cell_type": "code",
   "execution_count": 83,
   "metadata": {},
   "outputs": [
    {
     "name": "stdout",
     "output_type": "stream",
     "text": [
      "5\n",
      "*0000*0000*\n",
      "0*000*000*0\n",
      "00*00*00*00\n",
      "000*0*0*000\n",
      "0000***0000\n"
     ]
    }
   ],
   "source": [
    "#2\n",
    "n=int(input())\n",
    "i=1\n",
    "while i<=n:\n",
    "    \n",
    "    j=1\n",
    "    while j<i:\n",
    "        print(0,end='')\n",
    "        j+=1\n",
    "    j=i\n",
    "    if j==i:\n",
    "        print(\"*\",end='')\n",
    "    j=1\n",
    "    while j<=n-i:\n",
    "        print(0,end='')\n",
    "        j+=1\n",
    "    j=i\n",
    "    if j==i:\n",
    "        print(\"*\",end='')\n",
    "    j=1\n",
    "    while j<=n-i:\n",
    "        print(0,end='')\n",
    "        j+=1\n",
    "    j=i\n",
    "    if j==i:\n",
    "        print(\"*\",end='')\n",
    "    j=1\n",
    "    while j<i:\n",
    "        print(0,end='')\n",
    "        j+=1\n",
    "    i+=1\n",
    "    print()\n",
    "    "
   ]
  },
  {
   "cell_type": "code",
   "execution_count": 55,
   "metadata": {},
   "outputs": [
    {
     "name": "stdout",
     "output_type": "stream",
     "text": [
      "5\n",
      "    1\n",
      "   212\n",
      "  32123\n",
      " 4321234\n",
      "543212345\n"
     ]
    }
   ],
   "source": [
    "#3\n",
    "n=int(input())\n",
    "i=1\n",
    "while i<=n:\n",
    "    j=1\n",
    "    while j<=n-i:\n",
    "        print(\" \",end='')\n",
    "        j+=1\n",
    "    j=1\n",
    "    b=i\n",
    "    while j<=i:\n",
    "        print(b,end='')\n",
    "        b-=1\n",
    "        j+=1\n",
    "    if i>=2:\n",
    "        j=1\n",
    "        b=2\n",
    "        while j<i:\n",
    "            print(b,end='')\n",
    "            b+=1\n",
    "            j+=1\n",
    "    i+=1\n",
    "    print()"
   ]
  },
  {
   "cell_type": "code",
   "execution_count": 71,
   "metadata": {},
   "outputs": [
    {
     "name": "stdout",
     "output_type": "stream",
     "text": [
      "9\n",
      " *\n",
      "  **\n",
      "   ***\n",
      "    ****\n",
      "     *****\n",
      "    ****\n",
      "   ***\n",
      "  **\n",
      " *\n"
     ]
    }
   ],
   "source": [
    "#4\n",
    "n=int(input())\n",
    "i=1\n",
    "while i<=n:\n",
    "    j=1\n",
    "    if i<=(n+1)/2:\n",
    "        while j<=i:\n",
    "            print(\" \",end='')\n",
    "            j+=1\n",
    "        j=1\n",
    "        c=i\n",
    "        while j<=i:\n",
    "            print(\"*\",end='')\n",
    "            j+=1\n",
    "    else :\n",
    "        j=n-i+1\n",
    "        while j>=1:\n",
    "            print(\" \",end='')\n",
    "            j-=1\n",
    "        j=n-i+1\n",
    "        while j>=1:\n",
    "            print(\"*\",end='')\n",
    "            j-=1\n",
    "    \n",
    "    i+=1\n",
    "    print()\n"
   ]
  }
 ],
 "metadata": {
  "kernelspec": {
   "display_name": "Python 3",
   "language": "python",
   "name": "python3"
  },
  "language_info": {
   "codemirror_mode": {
    "name": "ipython",
    "version": 3
   },
   "file_extension": ".py",
   "mimetype": "text/x-python",
   "name": "python",
   "nbconvert_exporter": "python",
   "pygments_lexer": "ipython3",
   "version": "3.8.5"
  }
 },
 "nbformat": 4,
 "nbformat_minor": 4
}
